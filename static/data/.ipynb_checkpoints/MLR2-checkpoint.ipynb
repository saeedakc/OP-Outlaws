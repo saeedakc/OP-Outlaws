{
 "cells": [
  {
   "cell_type": "code",
   "execution_count": 1,
   "metadata": {},
   "outputs": [],
   "source": [
    "import pandas as pd\n",
    "# fit and evaluate an AR model\n",
    "from pandas import read_csv\n",
    "from matplotlib import pyplot\n",
    "from statsmodels.tsa.arima_model import ARIMA\n",
    "from sklearn.linear_model import LinearRegression\n",
    "from sklearn.metrics import mean_squared_error\n",
    "import numpy\n",
    "from math import sqrt"
   ]
  },
  {
   "cell_type": "code",
   "execution_count": 2,
   "metadata": {},
   "outputs": [],
   "source": [
    "def difference(dataset):\n",
    "    diff = []\n",
    "    for row in dataset:\n",
    "        diff_row = []\n",
    "        for i in range(0, len(row)):\n",
    "            value = int(row[i].replace(',', ''))# - int(row[i-1].replace(',', ''))\n",
    "            diff_row.append(value)\n",
    "        diff.append(diff_row)\n",
    "    return numpy.array(diff)\n",
    "\n",
    "# Make a prediction give regression coefficients and lag obs\n",
    "def predict(coef, history):\n",
    "    yhat = coef[0]\n",
    "    for i in range(1, len(coef)):\n",
    "        yhat += coef[i] * history[-i]\n",
    "    return yhat\n",
    " \n",
    "df = read_csv('rural_claims.csv', header=0, index_col=0)\n"
   ]
  },
  {
   "cell_type": "code",
   "execution_count": 3,
   "metadata": {},
   "outputs": [],
   "source": [
    "# split dataset\n",
    "X = difference(df.values)\n",
    "size = int(len(X) * 0.66)\n",
    "train, test = X[0:size], X[size:]"
   ]
  },
  {
   "cell_type": "code",
   "execution_count": 4,
   "metadata": {},
   "outputs": [
    {
     "data": {
      "text/plain": [
       "array([[ 7505293,  7270834,  7116263,  7118557,  6932641],\n",
       "       [  491888,   526148,   489313,   470342,   460978],\n",
       "       [ 2363936,  2441311,  2543839,  2591289,  2547418],\n",
       "       [ 6934818,  7053502,  7062882,  7034185,  6993169],\n",
       "       [ 6625783,  6660747,  6624199,  6643238,  6593507],\n",
       "       [ 1971406,  2118380,  2207222,  2269473,  2291251],\n",
       "       [  618385,   637913,   651370,   637083,   629764],\n",
       "       [  805931,   843246,   867945,   904755,   909871],\n",
       "       [       0,        0,        0,        0,        0],\n",
       "       [ 2478388,  2501285,  2549810,  2511410,  2503934],\n",
       "       [ 9985461, 10488738, 10855326, 11193597, 11475308],\n",
       "       [ 1053283,  1009634,   962079,   945857,   914725],\n",
       "       [ 1788663,  1781231,  1836363,  1860090,  1828405],\n",
       "       [ 8145716,  8706341,  8909976,  8758578,  8539115],\n",
       "       [ 7671579,  7771050,  7790688,  7917226,  7859175],\n",
       "       [ 7726682,  7619008,  7672901,  7711997,  7531082],\n",
       "       [ 5930588,  5888458,  5896868,  5870607,  5751643],\n",
       "       [14801031, 15172231, 15442705, 15778156, 15780519],\n",
       "       [ 4531259,  4672120,  4681432,  4774558,  4804687],\n",
       "       [ 3415230,  3446269,  3421047,  3461848,  3420427],\n",
       "       [  876692,   963494,  1036242,  1047091,  1054156],\n",
       "       [  745563,   768162,   773659,   822595,   832332],\n",
       "       [ 8283069,  8482527,  8727446,  8974718,  9009685],\n",
       "       [ 6615425,  6568464,  6681052,  6825948,  6722686],\n",
       "       [10212410, 10355398, 10572336, 10676624, 10706593],\n",
       "       [10159303, 10575205, 10684085, 10927060, 10765100],\n",
       "       [ 2205306,  2156757,  2183826,  2277985,  2394283],\n",
       "       [ 4198462,  4211679,  4175339,  4286998,  4181511],\n",
       "       [  578071,   553268,   564423,   562289,   566483],\n",
       "       [ 2088877,  2247776,  2521376,  2594289,  2648624],\n",
       "       [  432720,   426549,   427799,   443816,   435487],\n",
       "       [ 2339987,  2337010,  2379528,  2373253,  2355677],\n",
       "       [ 8016890,  8260012,  8363255,  8480574,  8545513]])"
      ]
     },
     "execution_count": 4,
     "metadata": {},
     "output_type": "execute_result"
    }
   ],
   "source": [
    "train"
   ]
  },
  {
   "cell_type": "code",
   "execution_count": 5,
   "metadata": {},
   "outputs": [],
   "source": [
    "model = LinearRegression().fit(train[:, 0:4], train[:, 4:5])"
   ]
  },
  {
   "cell_type": "code",
   "execution_count": 6,
   "metadata": {},
   "outputs": [
    {
     "name": "stdout",
     "output_type": "stream",
     "text": [
      "0.9997515228668792\n"
     ]
    }
   ],
   "source": [
    "r2 = model.score(test[:, 0:4], test[:, 4:5])\n",
    "print(r2)"
   ]
  },
  {
   "cell_type": "code",
   "execution_count": 7,
   "metadata": {},
   "outputs": [],
   "source": [
    "numpy.set_printoptions(formatter={'float_kind':'{:f}'.format})"
   ]
  },
  {
   "cell_type": "code",
   "execution_count": 8,
   "metadata": {},
   "outputs": [
    {
     "name": "stdout",
     "output_type": "stream",
     "text": [
      "[[6699631.141355]\n",
      " [440076.604609]\n",
      " [2498907.679429]\n",
      " [6836450.366697]\n",
      " [6453917.543530]\n",
      " [2288920.609837]\n",
      " [610697.894157]\n",
      " [911232.422945]\n",
      " [757.255557]\n",
      " [2444317.546477]\n",
      " [11563941.331507]\n",
      " [874006.797017]\n",
      " [1789307.516434]\n",
      " [8219123.724121]\n",
      " [7732410.612407]\n",
      " [7311638.106419]\n",
      " [5573982.474525]\n",
      " [15630196.126808]\n",
      " [4769866.895830]\n",
      " [3350197.041751]\n",
      " [1046871.826401]\n",
      " [841159.108086]\n",
      " [8966394.906971]\n",
      " [6600959.786786]\n",
      " [10578835.735452]\n",
      " [10572578.943304]\n",
      " [2452042.906206]\n",
      " [4086092.569356]\n",
      " [559206.414158]\n",
      " [2669520.791335]\n",
      " [429471.527600]\n",
      " [2304064.543376]\n",
      " [8475929.516451]]\n"
     ]
    }
   ],
   "source": [
    "preds_rural_2018 = model.predict(train[:, 1:5])\n",
    "print(preds_rural_2018)"
   ]
  },
  {
   "cell_type": "code",
   "execution_count": 9,
   "metadata": {},
   "outputs": [
    {
     "data": {
      "text/html": [
       "<div>\n",
       "<style scoped>\n",
       "    .dataframe tbody tr th:only-of-type {\n",
       "        vertical-align: middle;\n",
       "    }\n",
       "\n",
       "    .dataframe tbody tr th {\n",
       "        vertical-align: top;\n",
       "    }\n",
       "\n",
       "    .dataframe thead th {\n",
       "        text-align: right;\n",
       "    }\n",
       "</style>\n",
       "<table border=\"1\" class=\"dataframe\">\n",
       "  <thead>\n",
       "    <tr style=\"text-align: right;\">\n",
       "      <th></th>\n",
       "      <th>0</th>\n",
       "    </tr>\n",
       "  </thead>\n",
       "  <tbody>\n",
       "    <tr>\n",
       "      <th>0</th>\n",
       "      <td>6.699631e+06</td>\n",
       "    </tr>\n",
       "    <tr>\n",
       "      <th>1</th>\n",
       "      <td>4.400766e+05</td>\n",
       "    </tr>\n",
       "    <tr>\n",
       "      <th>2</th>\n",
       "      <td>2.498908e+06</td>\n",
       "    </tr>\n",
       "    <tr>\n",
       "      <th>3</th>\n",
       "      <td>6.836450e+06</td>\n",
       "    </tr>\n",
       "    <tr>\n",
       "      <th>4</th>\n",
       "      <td>6.453918e+06</td>\n",
       "    </tr>\n",
       "  </tbody>\n",
       "</table>\n",
       "</div>"
      ],
      "text/plain": [
       "              0\n",
       "0  6.699631e+06\n",
       "1  4.400766e+05\n",
       "2  2.498908e+06\n",
       "3  6.836450e+06\n",
       "4  6.453918e+06"
      ]
     },
     "execution_count": 9,
     "metadata": {},
     "output_type": "execute_result"
    }
   ],
   "source": [
    "predictions_2018 = pd.DataFrame(preds_rural_2018)\n",
    "predictions_2018.head()"
   ]
  },
  {
   "cell_type": "code",
   "execution_count": null,
   "metadata": {},
   "outputs": [],
   "source": [
    "predictions_2018.to_csv(r'../data/predictions_2018.csv')"
   ]
  },
  {
   "cell_type": "code",
   "execution_count": null,
   "metadata": {},
   "outputs": [],
   "source": [
    "df['2017']"
   ]
  },
  {
   "cell_type": "code",
   "execution_count": null,
   "metadata": {},
   "outputs": [],
   "source": []
  }
 ],
 "metadata": {
  "kernelspec": {
   "display_name": "Python 3",
   "language": "python",
   "name": "python3"
  },
  "language_info": {
   "codemirror_mode": {
    "name": "ipython",
    "version": 3
   },
   "file_extension": ".py",
   "mimetype": "text/x-python",
   "name": "python",
   "nbconvert_exporter": "python",
   "pygments_lexer": "ipython3",
   "version": "3.7.5"
  }
 },
 "nbformat": 4,
 "nbformat_minor": 4
}
