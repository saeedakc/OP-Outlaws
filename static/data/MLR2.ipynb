{
 "cells": [
  {
   "cell_type": "code",
   "execution_count": 1,
   "metadata": {},
   "outputs": [],
   "source": [
    "import pandas as pd\n",
    "# fit and evaluate an AR model\n",
    "from pandas import read_csv\n",
    "from matplotlib import pyplot\n",
    "from statsmodels.tsa.arima_model import ARIMA\n",
    "from sklearn.linear_model import LinearRegression\n",
    "from sklearn.metrics import mean_squared_error\n",
    "import numpy\n",
    "from math import sqrt"
   ]
  },
  {
   "cell_type": "code",
   "execution_count": 2,
   "metadata": {},
   "outputs": [],
   "source": [
    "def difference(dataset):\n",
    "    diff = []\n",
    "    for row in dataset:\n",
    "        diff_row = []\n",
    "        for i in range(0, len(row)):\n",
    "            value = int(row[i].replace(',', ''))# - int(row[i-1].replace(',', ''))\n",
    "            diff_row.append(value)\n",
    "        diff.append(diff_row)\n",
    "    return numpy.array(diff)\n",
    "\n",
    "# Make a prediction give regression coefficients and lag obs\n",
    "def predict(coef, history):\n",
    "    yhat = coef[0]\n",
    "    for i in range(1, len(coef)):\n",
    "        yhat += coef[i] * history[-i]\n",
    "    return yhat\n",
    " \n",
    "df = read_csv('urban_claims.csv', header=0, index_col=0)\n"
   ]
  },
  {
   "cell_type": "code",
   "execution_count": 3,
   "metadata": {},
   "outputs": [],
   "source": [
    "# split dataset\n",
    "X = difference(df.values)\n",
    "size = int(len(X) * 0.66)\n",
    "train, test = X[0:size], X[size:]"
   ]
  },
  {
   "cell_type": "code",
   "execution_count": 4,
   "metadata": {},
   "outputs": [
    {
     "data": {
      "text/plain": [
       "array([[ 21627302,  21558748,  21760083,  21744241,  21525066],\n",
       "       [   796055,    864833,    854367,    755249,    775673],\n",
       "       [ 19519007,  20813637,  21596162,  22142241,  22509294],\n",
       "       [  9807375,  10237131,  10714818,  11096737,  11234314],\n",
       "       [125176022, 127675796, 129207879, 131950254, 132461615],\n",
       "       [ 12433664,  13557986,  14104457,  14407473,  14662292],\n",
       "       [ 14245402,  14636306,  15313308,  15755226,  15997715],\n",
       "       [  2724335,   2780935,   2905604,   3042187,   3139842],\n",
       "       [  1856146,   1953018,   1991992,   2020207,   2050753],\n",
       "       [ 98040154, 100973899, 103276327, 104681602, 105011332],\n",
       "       [ 31141169,  33268781,  34768937,  35978379,  36817750],\n",
       "       [  3479988,   3394872,   3235077,   3189955,   3113306],\n",
       "       [  3826917,   3951992,   4203866,   4352716,   4442947],\n",
       "       [ 37770410,  40542843,  41884842,  42702709,  43487241],\n",
       "       [ 23042571,  23871401,  24651266,  25924435,  26442766],\n",
       "       [  8727530,   8897518,   9091690,   9251739,   9353470],\n",
       "       [  7576562,   7858705,   8166632,   8445253,   8446311],\n",
       "       [ 13519915,  13954314,  14440429,  15101627,  15246953],\n",
       "       [ 20005571,  20535449,  21304528,  21781109,  21992999],\n",
       "       [  3315532,   3417180,   3408597,   3450979,   3521242],\n",
       "       [ 14645589,  16072121,  16978841,  17643127,  18077324],\n",
       "       [ 28919771,  30081243,  30974498,  33355289,  34173667],\n",
       "       [ 36179615,  37920928,  39340862,  40957303,  41629568],\n",
       "       [ 13874334,  14181088,  14479719,  15139858,  15736660],\n",
       "       [  6939298,   7147317,   7382194,   7659476,   7802971],\n",
       "       [ 23034739,  24130144,  24919801,  25382235,  25810533],\n",
       "       [  1721384,   1780892,   1791604,   1832958,   1869229],\n",
       "       [  4717556,   4919043,   5113256,   5330241,   5550330],\n",
       "       [  7797614,   8150516,   8534616,   8739457,   9049006],\n",
       "       [  2627542,   2765352,   2908536,   3057058,   3135914],\n",
       "       [ 33470997,  34071311,  34953647,  35942261,  36114503],\n",
       "       [  4465563,   4576170,   4836810,   4994346,   5066541],\n",
       "       [ 82258162,  84747473,  86274362,  88328739,  89391162]])"
      ]
     },
     "execution_count": 4,
     "metadata": {},
     "output_type": "execute_result"
    }
   ],
   "source": [
    "train"
   ]
  },
  {
   "cell_type": "code",
   "execution_count": 5,
   "metadata": {},
   "outputs": [],
   "source": [
    "model = LinearRegression().fit(train[:, 0:4], train[:, 4:5])"
   ]
  },
  {
   "cell_type": "code",
   "execution_count": 6,
   "metadata": {},
   "outputs": [
    {
     "name": "stdout",
     "output_type": "stream",
     "text": [
      "0.9996404087930681\n"
     ]
    }
   ],
   "source": [
    "r2 = model.score(test[:, 0:4], test[:, 4:5])\n",
    "print(r2)"
   ]
  },
  {
   "cell_type": "code",
   "execution_count": 7,
   "metadata": {},
   "outputs": [],
   "source": [
    "numpy.set_printoptions(formatter={'float_kind':'{:f}'.format})"
   ]
  },
  {
   "cell_type": "code",
   "execution_count": 8,
   "metadata": {},
   "outputs": [
    {
     "name": "stdout",
     "output_type": "stream",
     "text": [
      "[[21387319.897750]\n",
      " [837571.771255]\n",
      " [22717312.564881]\n",
      " [11368417.145852]\n",
      " [131840030.081373]\n",
      " [14839841.570219]\n",
      " [16190203.411538]\n",
      " [3233110.889967]\n",
      " [2110351.097241]\n",
      " [104933933.937082]\n",
      " [37253571.134924]\n",
      " [3065763.789603]\n",
      " [4563625.676026]\n",
      " [43829858.393522]\n",
      " [26605186.568137]\n",
      " [9416555.384644]\n",
      " [8507619.075957]\n",
      " [15327269.414908]\n",
      " [22151077.659823]\n",
      " [3565684.965003]\n",
      " [18377659.381543]\n",
      " [34316102.605497]\n",
      " [41900470.386795]\n",
      " [15914101.002422]\n",
      " [7897150.781923]\n",
      " [26022755.654893]\n",
      " [1921854.433995]\n",
      " [5683292.171651]\n",
      " [9248902.154569]\n",
      " [3227473.076894]\n",
      " [36129683.053699]\n",
      " [5177531.652328]\n",
      " [89394607.032948]]\n"
     ]
    }
   ],
   "source": [
    "preds_urban_2018 = model.predict(train[:, 1:5])\n",
    "print(preds_urban_2018)"
   ]
  },
  {
   "cell_type": "code",
   "execution_count": 10,
   "metadata": {},
   "outputs": [
    {
     "data": {
      "text/html": [
       "<div>\n",
       "<style scoped>\n",
       "    .dataframe tbody tr th:only-of-type {\n",
       "        vertical-align: middle;\n",
       "    }\n",
       "\n",
       "    .dataframe tbody tr th {\n",
       "        vertical-align: top;\n",
       "    }\n",
       "\n",
       "    .dataframe thead th {\n",
       "        text-align: right;\n",
       "    }\n",
       "</style>\n",
       "<table border=\"1\" class=\"dataframe\">\n",
       "  <thead>\n",
       "    <tr style=\"text-align: right;\">\n",
       "      <th></th>\n",
       "      <th>0</th>\n",
       "    </tr>\n",
       "  </thead>\n",
       "  <tbody>\n",
       "    <tr>\n",
       "      <th>0</th>\n",
       "      <td>2.138732e+07</td>\n",
       "    </tr>\n",
       "    <tr>\n",
       "      <th>1</th>\n",
       "      <td>8.375718e+05</td>\n",
       "    </tr>\n",
       "    <tr>\n",
       "      <th>2</th>\n",
       "      <td>2.271731e+07</td>\n",
       "    </tr>\n",
       "    <tr>\n",
       "      <th>3</th>\n",
       "      <td>1.136842e+07</td>\n",
       "    </tr>\n",
       "    <tr>\n",
       "      <th>4</th>\n",
       "      <td>1.318400e+08</td>\n",
       "    </tr>\n",
       "  </tbody>\n",
       "</table>\n",
       "</div>"
      ],
      "text/plain": [
       "              0\n",
       "0  2.138732e+07\n",
       "1  8.375718e+05\n",
       "2  2.271731e+07\n",
       "3  1.136842e+07\n",
       "4  1.318400e+08"
      ]
     },
     "execution_count": 10,
     "metadata": {},
     "output_type": "execute_result"
    }
   ],
   "source": [
    "preds_urban_2018 = pd.DataFrame(preds_urban_2018)\n",
    "preds_urban_2018.head()"
   ]
  },
  {
   "cell_type": "code",
   "execution_count": 11,
   "metadata": {},
   "outputs": [],
   "source": [
    "preds_urban_2018.to_csv(r'../data/preds_urban_2018.csv')"
   ]
  },
  {
   "cell_type": "code",
   "execution_count": 9,
   "metadata": {},
   "outputs": [
    {
     "data": {
      "text/plain": [
       "Location\n",
       "Alabama                   21,525,066\n",
       "Alaska                       775,673\n",
       "Arizona                   22,509,294\n",
       "Arkansas                  11,234,314\n",
       "California               132,461,615\n",
       "Colorado                  14,662,292\n",
       "Connecticut               15,997,715\n",
       "Delaware                   3,139,842\n",
       "District of Columbia       2,050,753\n",
       "Florida                  105,011,332\n",
       "Georgia                   36,817,750\n",
       "Hawaii                     3,113,306\n",
       "Idaho                      4,442,947\n",
       "Illinois                  43,487,241\n",
       "Indiana                   26,442,766\n",
       "Iowa                       9,353,470\n",
       "Kansas                     8,446,311\n",
       "Kentucky                  15,246,953\n",
       "Louisiana                 21,992,999\n",
       "Maine                      3,521,242\n",
       "Maryland                  18,077,324\n",
       "Massachusetts             34,173,667\n",
       "Michigan                  41,629,568\n",
       "Minnesota                 15,736,660\n",
       "Mississippi                7,802,971\n",
       "Missouri                  25,810,533\n",
       "Montana                    1,869,229\n",
       "Nebraska                   5,550,330\n",
       "Nevada                     9,049,006\n",
       "New Hampshire              3,135,914\n",
       "New Jersey                36,114,503\n",
       "New Mexico                 5,066,541\n",
       "New York                  89,391,162\n",
       "North Carolina            39,810,574\n",
       "North Dakota               2,140,700\n",
       "Ohio                      50,176,453\n",
       "Oklahoma                  10,793,150\n",
       "Oregon                    12,972,159\n",
       "Pennsylvania              64,402,850\n",
       "Rhode Island               6,298,960\n",
       "South Carolina            20,763,631\n",
       "South Dakota               2,097,022\n",
       "Tennessee                 29,211,512\n",
       "Texas                     80,069,044\n",
       "Utah                       6,782,758\n",
       "Vermont                      865,681\n",
       "Virginia                  25,011,318\n",
       "Washington                21,633,919\n",
       "West Virginia              8,790,753\n",
       "Wisconsin                 19,286,389\n",
       "Wyoming                      726,370\n",
       "Name: 2017, dtype: object"
      ]
     },
     "execution_count": 9,
     "metadata": {},
     "output_type": "execute_result"
    }
   ],
   "source": [
    "df['2017']"
   ]
  },
  {
   "cell_type": "code",
   "execution_count": null,
   "metadata": {},
   "outputs": [],
   "source": []
  }
 ],
 "metadata": {
  "kernelspec": {
   "display_name": "Python 3",
   "language": "python",
   "name": "python3"
  },
  "language_info": {
   "codemirror_mode": {
    "name": "ipython",
    "version": 3
   },
   "file_extension": ".py",
   "mimetype": "text/x-python",
   "name": "python",
   "nbconvert_exporter": "python",
   "pygments_lexer": "ipython3",
   "version": "3.7.5"
  }
 },
 "nbformat": 4,
 "nbformat_minor": 4
}
